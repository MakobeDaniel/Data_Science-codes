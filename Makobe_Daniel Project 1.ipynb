{
 "cells": [
  {
   "cell_type": "code",
   "execution_count": 1,
   "metadata": {},
   "outputs": [],
   "source": [
    "import pandas as pd"
   ]
  },
  {
   "cell_type": "code",
   "execution_count": 53,
   "metadata": {},
   "outputs": [
    {
     "name": "stderr",
     "output_type": "stream",
     "text": [
      "C:\\ProgramData\\Anaconda3\\lib\\site-packages\\IPython\\core\\interactiveshell.py:3071: DtypeWarning: Columns (48,49) have mixed types.Specify dtype option on import or set low_memory=False.\n",
      "  has_raised = await self.run_ast_nodes(code_ast.body, cell_name,\n"
     ]
    }
   ],
   "source": [
    "data = pd.read_csv(r\"C:\\Users\\maphu\\Documents\\Python project 1\\Data-Science-with-Python-Project-2--master\\Data-Science-with-Python-Project-2--master\\Data Science with Python Two\\311_Service_Requests_from_2010_to_Present.csv\", header=0, sep=\",\",index_col=\"Unique Key\")"
   ]
  },
  {
   "cell_type": "code",
   "execution_count": 54,
   "metadata": {},
   "outputs": [
    {
     "data": {
      "text/plain": [
       "(300698, 52)"
      ]
     },
     "execution_count": 54,
     "metadata": {},
     "output_type": "execute_result"
    }
   ],
   "source": [
    "data.shape"
   ]
  },
  {
   "cell_type": "code",
   "execution_count": 55,
   "metadata": {},
   "outputs": [
    {
     "data": {
      "text/html": [
       "<div>\n",
       "<style scoped>\n",
       "    .dataframe tbody tr th:only-of-type {\n",
       "        vertical-align: middle;\n",
       "    }\n",
       "\n",
       "    .dataframe tbody tr th {\n",
       "        vertical-align: top;\n",
       "    }\n",
       "\n",
       "    .dataframe thead th {\n",
       "        text-align: right;\n",
       "    }\n",
       "</style>\n",
       "<table border=\"1\" class=\"dataframe\">\n",
       "  <thead>\n",
       "    <tr style=\"text-align: right;\">\n",
       "      <th></th>\n",
       "      <th>Created Date</th>\n",
       "      <th>Closed Date</th>\n",
       "      <th>Agency</th>\n",
       "      <th>Agency Name</th>\n",
       "      <th>Complaint Type</th>\n",
       "      <th>Descriptor</th>\n",
       "      <th>Location Type</th>\n",
       "      <th>Incident Zip</th>\n",
       "      <th>Incident Address</th>\n",
       "      <th>Street Name</th>\n",
       "      <th>...</th>\n",
       "      <th>Bridge Highway Name</th>\n",
       "      <th>Bridge Highway Direction</th>\n",
       "      <th>Road Ramp</th>\n",
       "      <th>Bridge Highway Segment</th>\n",
       "      <th>Garage Lot Name</th>\n",
       "      <th>Ferry Direction</th>\n",
       "      <th>Ferry Terminal Name</th>\n",
       "      <th>Latitude</th>\n",
       "      <th>Longitude</th>\n",
       "      <th>Location</th>\n",
       "    </tr>\n",
       "    <tr>\n",
       "      <th>Unique Key</th>\n",
       "      <th></th>\n",
       "      <th></th>\n",
       "      <th></th>\n",
       "      <th></th>\n",
       "      <th></th>\n",
       "      <th></th>\n",
       "      <th></th>\n",
       "      <th></th>\n",
       "      <th></th>\n",
       "      <th></th>\n",
       "      <th></th>\n",
       "      <th></th>\n",
       "      <th></th>\n",
       "      <th></th>\n",
       "      <th></th>\n",
       "      <th></th>\n",
       "      <th></th>\n",
       "      <th></th>\n",
       "      <th></th>\n",
       "      <th></th>\n",
       "      <th></th>\n",
       "    </tr>\n",
       "  </thead>\n",
       "  <tbody>\n",
       "    <tr>\n",
       "      <th>32310363</th>\n",
       "      <td>12/31/2015 11:59:45 PM</td>\n",
       "      <td>01-01-16 0:55</td>\n",
       "      <td>NYPD</td>\n",
       "      <td>New York City Police Department</td>\n",
       "      <td>Noise - Street/Sidewalk</td>\n",
       "      <td>Loud Music/Party</td>\n",
       "      <td>Street/Sidewalk</td>\n",
       "      <td>10034.0</td>\n",
       "      <td>71 VERMILYEA AVENUE</td>\n",
       "      <td>VERMILYEA AVENUE</td>\n",
       "      <td>...</td>\n",
       "      <td>NaN</td>\n",
       "      <td>NaN</td>\n",
       "      <td>NaN</td>\n",
       "      <td>NaN</td>\n",
       "      <td>NaN</td>\n",
       "      <td>NaN</td>\n",
       "      <td>NaN</td>\n",
       "      <td>40.865682</td>\n",
       "      <td>-73.923501</td>\n",
       "      <td>(40.86568153633767, -73.92350095571744)</td>\n",
       "    </tr>\n",
       "    <tr>\n",
       "      <th>32309934</th>\n",
       "      <td>12/31/2015 11:59:44 PM</td>\n",
       "      <td>01-01-16 1:26</td>\n",
       "      <td>NYPD</td>\n",
       "      <td>New York City Police Department</td>\n",
       "      <td>Blocked Driveway</td>\n",
       "      <td>No Access</td>\n",
       "      <td>Street/Sidewalk</td>\n",
       "      <td>11105.0</td>\n",
       "      <td>27-07 23 AVENUE</td>\n",
       "      <td>23 AVENUE</td>\n",
       "      <td>...</td>\n",
       "      <td>NaN</td>\n",
       "      <td>NaN</td>\n",
       "      <td>NaN</td>\n",
       "      <td>NaN</td>\n",
       "      <td>NaN</td>\n",
       "      <td>NaN</td>\n",
       "      <td>NaN</td>\n",
       "      <td>40.775945</td>\n",
       "      <td>-73.915094</td>\n",
       "      <td>(40.775945312321085, -73.91509393898605)</td>\n",
       "    </tr>\n",
       "  </tbody>\n",
       "</table>\n",
       "<p>2 rows × 52 columns</p>\n",
       "</div>"
      ],
      "text/plain": [
       "                      Created Date    Closed Date Agency  \\\n",
       "Unique Key                                                 \n",
       "32310363    12/31/2015 11:59:45 PM  01-01-16 0:55   NYPD   \n",
       "32309934    12/31/2015 11:59:44 PM  01-01-16 1:26   NYPD   \n",
       "\n",
       "                                Agency Name           Complaint Type  \\\n",
       "Unique Key                                                             \n",
       "32310363    New York City Police Department  Noise - Street/Sidewalk   \n",
       "32309934    New York City Police Department         Blocked Driveway   \n",
       "\n",
       "                  Descriptor    Location Type  Incident Zip  \\\n",
       "Unique Key                                                    \n",
       "32310363    Loud Music/Party  Street/Sidewalk       10034.0   \n",
       "32309934           No Access  Street/Sidewalk       11105.0   \n",
       "\n",
       "               Incident Address       Street Name  ... Bridge Highway Name  \\\n",
       "Unique Key                                         ...                       \n",
       "32310363    71 VERMILYEA AVENUE  VERMILYEA AVENUE  ...                 NaN   \n",
       "32309934        27-07 23 AVENUE         23 AVENUE  ...                 NaN   \n",
       "\n",
       "           Bridge Highway Direction Road Ramp Bridge Highway Segment  \\\n",
       "Unique Key                                                             \n",
       "32310363                        NaN       NaN                    NaN   \n",
       "32309934                        NaN       NaN                    NaN   \n",
       "\n",
       "           Garage Lot Name Ferry Direction Ferry Terminal Name   Latitude  \\\n",
       "Unique Key                                                                  \n",
       "32310363               NaN             NaN                 NaN  40.865682   \n",
       "32309934               NaN             NaN                 NaN  40.775945   \n",
       "\n",
       "            Longitude                                  Location  \n",
       "Unique Key                                                       \n",
       "32310363   -73.923501   (40.86568153633767, -73.92350095571744)  \n",
       "32309934   -73.915094  (40.775945312321085, -73.91509393898605)  \n",
       "\n",
       "[2 rows x 52 columns]"
      ]
     },
     "execution_count": 55,
     "metadata": {},
     "output_type": "execute_result"
    }
   ],
   "source": [
    "data.head(2)"
   ]
  },
  {
   "cell_type": "code",
   "execution_count": 56,
   "metadata": {},
   "outputs": [],
   "source": [
    "import numpy as np\n",
    "import matplotlib as mpl\n",
    "from matplotlib import pyplot as plt\n",
    "from matplotlib import style\n",
    "import seaborn as sns\n",
    "%matplotlib inline\n",
    "import datetime"
   ]
  },
  {
   "cell_type": "code",
   "execution_count": 57,
   "metadata": {},
   "outputs": [],
   "source": [
    "data[\"Created Date\"] = pd.to_datetime(data[\"Created Date\"])\n",
    "data[\"Closed Date\"] = pd.to_datetime(data[\"Closed Date\"])\n",
    "data[\"Due Date\"] = pd.to_datetime(data[\"Due Date\"])\n",
    "data[\"Resolution Action Updated Date\"] = pd.to_datetime(data[\"Resolution Action Updated Date\"])"
   ]
  },
  {
   "cell_type": "code",
   "execution_count": 58,
   "metadata": {},
   "outputs": [],
   "source": [
    "data[\"Request_Closing_Time\"]=(data[\"Closed Date\"]-data[\"Created Date\"])"
   ]
  },
  {
   "cell_type": "code",
   "execution_count": 60,
   "metadata": {},
   "outputs": [
    {
     "data": {
      "text/html": [
       "<div>\n",
       "<style scoped>\n",
       "    .dataframe tbody tr th:only-of-type {\n",
       "        vertical-align: middle;\n",
       "    }\n",
       "\n",
       "    .dataframe tbody tr th {\n",
       "        vertical-align: top;\n",
       "    }\n",
       "\n",
       "    .dataframe thead th {\n",
       "        text-align: right;\n",
       "    }\n",
       "</style>\n",
       "<table border=\"1\" class=\"dataframe\">\n",
       "  <thead>\n",
       "    <tr style=\"text-align: right;\">\n",
       "      <th></th>\n",
       "      <th>Created Date</th>\n",
       "      <th>Closed Date</th>\n",
       "      <th>Agency</th>\n",
       "      <th>Agency Name</th>\n",
       "      <th>Complaint Type</th>\n",
       "      <th>Descriptor</th>\n",
       "      <th>Location Type</th>\n",
       "      <th>Incident Zip</th>\n",
       "      <th>Incident Address</th>\n",
       "      <th>Street Name</th>\n",
       "      <th>...</th>\n",
       "      <th>Bridge Highway Direction</th>\n",
       "      <th>Road Ramp</th>\n",
       "      <th>Bridge Highway Segment</th>\n",
       "      <th>Garage Lot Name</th>\n",
       "      <th>Ferry Direction</th>\n",
       "      <th>Ferry Terminal Name</th>\n",
       "      <th>Latitude</th>\n",
       "      <th>Longitude</th>\n",
       "      <th>Location</th>\n",
       "      <th>Request_Closing_Time</th>\n",
       "    </tr>\n",
       "    <tr>\n",
       "      <th>Unique Key</th>\n",
       "      <th></th>\n",
       "      <th></th>\n",
       "      <th></th>\n",
       "      <th></th>\n",
       "      <th></th>\n",
       "      <th></th>\n",
       "      <th></th>\n",
       "      <th></th>\n",
       "      <th></th>\n",
       "      <th></th>\n",
       "      <th></th>\n",
       "      <th></th>\n",
       "      <th></th>\n",
       "      <th></th>\n",
       "      <th></th>\n",
       "      <th></th>\n",
       "      <th></th>\n",
       "      <th></th>\n",
       "      <th></th>\n",
       "      <th></th>\n",
       "      <th></th>\n",
       "    </tr>\n",
       "  </thead>\n",
       "  <tbody>\n",
       "    <tr>\n",
       "      <th>32310363</th>\n",
       "      <td>2015-12-31 23:59:45</td>\n",
       "      <td>2016-01-01 00:55:00</td>\n",
       "      <td>NYPD</td>\n",
       "      <td>New York City Police Department</td>\n",
       "      <td>Noise - Street/Sidewalk</td>\n",
       "      <td>Loud Music/Party</td>\n",
       "      <td>Street/Sidewalk</td>\n",
       "      <td>10034.0</td>\n",
       "      <td>71 VERMILYEA AVENUE</td>\n",
       "      <td>VERMILYEA AVENUE</td>\n",
       "      <td>...</td>\n",
       "      <td>NaN</td>\n",
       "      <td>NaN</td>\n",
       "      <td>NaN</td>\n",
       "      <td>NaN</td>\n",
       "      <td>NaN</td>\n",
       "      <td>NaN</td>\n",
       "      <td>40.865682</td>\n",
       "      <td>-73.923501</td>\n",
       "      <td>(40.86568153633767, -73.92350095571744)</td>\n",
       "      <td>00:55:15</td>\n",
       "    </tr>\n",
       "    <tr>\n",
       "      <th>32309934</th>\n",
       "      <td>2015-12-31 23:59:44</td>\n",
       "      <td>2016-01-01 01:26:00</td>\n",
       "      <td>NYPD</td>\n",
       "      <td>New York City Police Department</td>\n",
       "      <td>Blocked Driveway</td>\n",
       "      <td>No Access</td>\n",
       "      <td>Street/Sidewalk</td>\n",
       "      <td>11105.0</td>\n",
       "      <td>27-07 23 AVENUE</td>\n",
       "      <td>23 AVENUE</td>\n",
       "      <td>...</td>\n",
       "      <td>NaN</td>\n",
       "      <td>NaN</td>\n",
       "      <td>NaN</td>\n",
       "      <td>NaN</td>\n",
       "      <td>NaN</td>\n",
       "      <td>NaN</td>\n",
       "      <td>40.775945</td>\n",
       "      <td>-73.915094</td>\n",
       "      <td>(40.775945312321085, -73.91509393898605)</td>\n",
       "      <td>01:26:16</td>\n",
       "    </tr>\n",
       "  </tbody>\n",
       "</table>\n",
       "<p>2 rows × 53 columns</p>\n",
       "</div>"
      ],
      "text/plain": [
       "                  Created Date         Closed Date Agency  \\\n",
       "Unique Key                                                  \n",
       "32310363   2015-12-31 23:59:45 2016-01-01 00:55:00   NYPD   \n",
       "32309934   2015-12-31 23:59:44 2016-01-01 01:26:00   NYPD   \n",
       "\n",
       "                                Agency Name           Complaint Type  \\\n",
       "Unique Key                                                             \n",
       "32310363    New York City Police Department  Noise - Street/Sidewalk   \n",
       "32309934    New York City Police Department         Blocked Driveway   \n",
       "\n",
       "                  Descriptor    Location Type  Incident Zip  \\\n",
       "Unique Key                                                    \n",
       "32310363    Loud Music/Party  Street/Sidewalk       10034.0   \n",
       "32309934           No Access  Street/Sidewalk       11105.0   \n",
       "\n",
       "               Incident Address       Street Name  ...  \\\n",
       "Unique Key                                         ...   \n",
       "32310363    71 VERMILYEA AVENUE  VERMILYEA AVENUE  ...   \n",
       "32309934        27-07 23 AVENUE         23 AVENUE  ...   \n",
       "\n",
       "           Bridge Highway Direction Road Ramp Bridge Highway Segment  \\\n",
       "Unique Key                                                             \n",
       "32310363                        NaN       NaN                    NaN   \n",
       "32309934                        NaN       NaN                    NaN   \n",
       "\n",
       "           Garage Lot Name Ferry Direction Ferry Terminal Name   Latitude  \\\n",
       "Unique Key                                                                  \n",
       "32310363               NaN             NaN                 NaN  40.865682   \n",
       "32309934               NaN             NaN                 NaN  40.775945   \n",
       "\n",
       "            Longitude                                  Location  \\\n",
       "Unique Key                                                        \n",
       "32310363   -73.923501   (40.86568153633767, -73.92350095571744)   \n",
       "32309934   -73.915094  (40.775945312321085, -73.91509393898605)   \n",
       "\n",
       "           Request_Closing_Time  \n",
       "Unique Key                       \n",
       "32310363               00:55:15  \n",
       "32309934               01:26:16  \n",
       "\n",
       "[2 rows x 53 columns]"
      ]
     },
     "execution_count": 60,
     "metadata": {},
     "output_type": "execute_result"
    }
   ],
   "source": [
    "data.head(2)"
   ]
  },
  {
   "cell_type": "code",
   "execution_count": 50,
   "metadata": {},
   "outputs": [
    {
     "data": {
      "text/html": [
       "<div>\n",
       "<style scoped>\n",
       "    .dataframe tbody tr th:only-of-type {\n",
       "        vertical-align: middle;\n",
       "    }\n",
       "\n",
       "    .dataframe tbody tr th {\n",
       "        vertical-align: top;\n",
       "    }\n",
       "\n",
       "    .dataframe thead th {\n",
       "        text-align: right;\n",
       "    }\n",
       "</style>\n",
       "<table border=\"1\" class=\"dataframe\">\n",
       "  <thead>\n",
       "    <tr style=\"text-align: right;\">\n",
       "      <th></th>\n",
       "      <th>Created Date</th>\n",
       "      <th>Closed Date</th>\n",
       "      <th>Complaint Type</th>\n",
       "      <th>City</th>\n",
       "      <th>Request_Closing_Time</th>\n",
       "    </tr>\n",
       "    <tr>\n",
       "      <th>Unique Key</th>\n",
       "      <th></th>\n",
       "      <th></th>\n",
       "      <th></th>\n",
       "      <th></th>\n",
       "      <th></th>\n",
       "    </tr>\n",
       "  </thead>\n",
       "  <tbody>\n",
       "    <tr>\n",
       "      <th>32310363</th>\n",
       "      <td>2015-12-31 23:59:45</td>\n",
       "      <td>2016-01-01 00:55:00</td>\n",
       "      <td>Noise - Street/Sidewalk</td>\n",
       "      <td>NEW YORK</td>\n",
       "      <td>3315.0</td>\n",
       "    </tr>\n",
       "    <tr>\n",
       "      <th>32309934</th>\n",
       "      <td>2015-12-31 23:59:44</td>\n",
       "      <td>2016-01-01 01:26:00</td>\n",
       "      <td>Blocked Driveway</td>\n",
       "      <td>ASTORIA</td>\n",
       "      <td>5176.0</td>\n",
       "    </tr>\n",
       "    <tr>\n",
       "      <th>32309159</th>\n",
       "      <td>2015-12-31 23:59:29</td>\n",
       "      <td>2016-01-01 04:51:00</td>\n",
       "      <td>Blocked Driveway</td>\n",
       "      <td>BRONX</td>\n",
       "      <td>17491.0</td>\n",
       "    </tr>\n",
       "    <tr>\n",
       "      <th>32305098</th>\n",
       "      <td>2015-12-31 23:57:46</td>\n",
       "      <td>2016-01-01 07:43:00</td>\n",
       "      <td>Illegal Parking</td>\n",
       "      <td>BRONX</td>\n",
       "      <td>27914.0</td>\n",
       "    </tr>\n",
       "    <tr>\n",
       "      <th>32306529</th>\n",
       "      <td>2015-12-31 23:56:58</td>\n",
       "      <td>2016-01-01 03:24:00</td>\n",
       "      <td>Illegal Parking</td>\n",
       "      <td>ELMHURST</td>\n",
       "      <td>12422.0</td>\n",
       "    </tr>\n",
       "    <tr>\n",
       "      <th>32306554</th>\n",
       "      <td>2015-12-31 23:56:30</td>\n",
       "      <td>2016-01-01 01:50:00</td>\n",
       "      <td>Illegal Parking</td>\n",
       "      <td>BROOKLYN</td>\n",
       "      <td>6810.0</td>\n",
       "    </tr>\n",
       "    <tr>\n",
       "      <th>32306559</th>\n",
       "      <td>2015-12-31 23:55:32</td>\n",
       "      <td>2016-01-01 01:53:00</td>\n",
       "      <td>Illegal Parking</td>\n",
       "      <td>NEW YORK</td>\n",
       "      <td>7048.0</td>\n",
       "    </tr>\n",
       "    <tr>\n",
       "      <th>32307009</th>\n",
       "      <td>2015-12-31 23:54:05</td>\n",
       "      <td>2016-01-01 01:42:00</td>\n",
       "      <td>Blocked Driveway</td>\n",
       "      <td>BRONX</td>\n",
       "      <td>6475.0</td>\n",
       "    </tr>\n",
       "    <tr>\n",
       "      <th>32308581</th>\n",
       "      <td>2015-12-31 23:53:58</td>\n",
       "      <td>2016-01-01 08:27:00</td>\n",
       "      <td>Illegal Parking</td>\n",
       "      <td>KEW GARDENS</td>\n",
       "      <td>30782.0</td>\n",
       "    </tr>\n",
       "    <tr>\n",
       "      <th>32308391</th>\n",
       "      <td>2015-12-31 23:53:58</td>\n",
       "      <td>2016-01-01 01:17:00</td>\n",
       "      <td>Blocked Driveway</td>\n",
       "      <td>BROOKLYN</td>\n",
       "      <td>4982.0</td>\n",
       "    </tr>\n",
       "    <tr>\n",
       "      <th>32305071</th>\n",
       "      <td>2015-12-31 23:52:58</td>\n",
       "      <td>2016-01-01 07:41:00</td>\n",
       "      <td>Blocked Driveway</td>\n",
       "      <td>JACKSON HEIGHTS</td>\n",
       "      <td>28082.0</td>\n",
       "    </tr>\n",
       "    <tr>\n",
       "      <th>32306260</th>\n",
       "      <td>2015-12-31 23:50:57</td>\n",
       "      <td>2016-01-01 10:58:00</td>\n",
       "      <td>Blocked Driveway</td>\n",
       "      <td>BRONX</td>\n",
       "      <td>40023.0</td>\n",
       "    </tr>\n",
       "    <tr>\n",
       "      <th>32306612</th>\n",
       "      <td>2015-12-31 23:48:03</td>\n",
       "      <td>2016-01-01 02:17:00</td>\n",
       "      <td>Noise - Street/Sidewalk</td>\n",
       "      <td>BRONX</td>\n",
       "      <td>8937.0</td>\n",
       "    </tr>\n",
       "    <tr>\n",
       "      <th>32305074</th>\n",
       "      <td>2015-12-31 23:47:58</td>\n",
       "      <td>2016-01-01 08:18:00</td>\n",
       "      <td>Illegal Parking</td>\n",
       "      <td>BROOKLYN</td>\n",
       "      <td>30602.0</td>\n",
       "    </tr>\n",
       "    <tr>\n",
       "      <th>32309424</th>\n",
       "      <td>2015-12-31 23:47:37</td>\n",
       "      <td>2016-01-01 10:17:00</td>\n",
       "      <td>Derelict Vehicle</td>\n",
       "      <td>MIDDLE VILLAGE</td>\n",
       "      <td>37763.0</td>\n",
       "    </tr>\n",
       "    <tr>\n",
       "      <th>32309853</th>\n",
       "      <td>2015-12-31 23:47:30</td>\n",
       "      <td>2016-01-01 15:20:00</td>\n",
       "      <td>Blocked Driveway</td>\n",
       "      <td>REGO PARK</td>\n",
       "      <td>55950.0</td>\n",
       "    </tr>\n",
       "    <tr>\n",
       "      <th>32305538</th>\n",
       "      <td>2015-12-31 23:47:02</td>\n",
       "      <td>2016-01-01 04:39:00</td>\n",
       "      <td>Blocked Driveway</td>\n",
       "      <td>SAINT ALBANS</td>\n",
       "      <td>17518.0</td>\n",
       "    </tr>\n",
       "    <tr>\n",
       "      <th>32310273</th>\n",
       "      <td>2015-12-31 23:44:52</td>\n",
       "      <td>2016-01-01 00:36:00</td>\n",
       "      <td>Noise - Commercial</td>\n",
       "      <td>BROOKLYN</td>\n",
       "      <td>3068.0</td>\n",
       "    </tr>\n",
       "    <tr>\n",
       "      <th>32306617</th>\n",
       "      <td>2015-12-31 23:40:59</td>\n",
       "      <td>2016-01-01 02:37:00</td>\n",
       "      <td>Noise - Commercial</td>\n",
       "      <td>BROOKLYN</td>\n",
       "      <td>10561.0</td>\n",
       "    </tr>\n",
       "    <tr>\n",
       "      <th>32308195</th>\n",
       "      <td>2015-12-31 23:40:55</td>\n",
       "      <td>2016-01-01 00:28:00</td>\n",
       "      <td>Noise - Street/Sidewalk</td>\n",
       "      <td>NEW YORK</td>\n",
       "      <td>2825.0</td>\n",
       "    </tr>\n",
       "  </tbody>\n",
       "</table>\n",
       "</div>"
      ],
      "text/plain": [
       "                  Created Date         Closed Date           Complaint Type  \\\n",
       "Unique Key                                                                    \n",
       "32310363   2015-12-31 23:59:45 2016-01-01 00:55:00  Noise - Street/Sidewalk   \n",
       "32309934   2015-12-31 23:59:44 2016-01-01 01:26:00         Blocked Driveway   \n",
       "32309159   2015-12-31 23:59:29 2016-01-01 04:51:00         Blocked Driveway   \n",
       "32305098   2015-12-31 23:57:46 2016-01-01 07:43:00          Illegal Parking   \n",
       "32306529   2015-12-31 23:56:58 2016-01-01 03:24:00          Illegal Parking   \n",
       "32306554   2015-12-31 23:56:30 2016-01-01 01:50:00          Illegal Parking   \n",
       "32306559   2015-12-31 23:55:32 2016-01-01 01:53:00          Illegal Parking   \n",
       "32307009   2015-12-31 23:54:05 2016-01-01 01:42:00         Blocked Driveway   \n",
       "32308581   2015-12-31 23:53:58 2016-01-01 08:27:00          Illegal Parking   \n",
       "32308391   2015-12-31 23:53:58 2016-01-01 01:17:00         Blocked Driveway   \n",
       "32305071   2015-12-31 23:52:58 2016-01-01 07:41:00         Blocked Driveway   \n",
       "32306260   2015-12-31 23:50:57 2016-01-01 10:58:00         Blocked Driveway   \n",
       "32306612   2015-12-31 23:48:03 2016-01-01 02:17:00  Noise - Street/Sidewalk   \n",
       "32305074   2015-12-31 23:47:58 2016-01-01 08:18:00          Illegal Parking   \n",
       "32309424   2015-12-31 23:47:37 2016-01-01 10:17:00         Derelict Vehicle   \n",
       "32309853   2015-12-31 23:47:30 2016-01-01 15:20:00         Blocked Driveway   \n",
       "32305538   2015-12-31 23:47:02 2016-01-01 04:39:00         Blocked Driveway   \n",
       "32310273   2015-12-31 23:44:52 2016-01-01 00:36:00       Noise - Commercial   \n",
       "32306617   2015-12-31 23:40:59 2016-01-01 02:37:00       Noise - Commercial   \n",
       "32308195   2015-12-31 23:40:55 2016-01-01 00:28:00  Noise - Street/Sidewalk   \n",
       "\n",
       "                       City  Request_Closing_Time  \n",
       "Unique Key                                         \n",
       "32310363           NEW YORK                3315.0  \n",
       "32309934            ASTORIA                5176.0  \n",
       "32309159              BRONX               17491.0  \n",
       "32305098              BRONX               27914.0  \n",
       "32306529           ELMHURST               12422.0  \n",
       "32306554           BROOKLYN                6810.0  \n",
       "32306559           NEW YORK                7048.0  \n",
       "32307009              BRONX                6475.0  \n",
       "32308581        KEW GARDENS               30782.0  \n",
       "32308391           BROOKLYN                4982.0  \n",
       "32305071    JACKSON HEIGHTS               28082.0  \n",
       "32306260              BRONX               40023.0  \n",
       "32306612              BRONX                8937.0  \n",
       "32305074           BROOKLYN               30602.0  \n",
       "32309424     MIDDLE VILLAGE               37763.0  \n",
       "32309853          REGO PARK               55950.0  \n",
       "32305538       SAINT ALBANS               17518.0  \n",
       "32310273           BROOKLYN                3068.0  \n",
       "32306617           BROOKLYN               10561.0  \n",
       "32308195           NEW YORK                2825.0  "
      ]
     },
     "execution_count": 50,
     "metadata": {},
     "output_type": "execute_result"
    }
   ],
   "source": [
    "data[[\"Created Date\",\"Closed Date\",\"Complaint Type\",\"City\",\"Request_Closing_Time\"]].head(20)"
   ]
  },
  {
   "cell_type": "code",
   "execution_count": 61,
   "metadata": {},
   "outputs": [
    {
     "data": {
      "text/plain": [
       "count                    298534\n",
       "mean     0 days 04:18:51.832782\n",
       "std      0 days 06:05:22.141833\n",
       "min             0 days 00:01:00\n",
       "25%             0 days 01:16:33\n",
       "50%      0 days 02:42:55.500000\n",
       "75%             0 days 05:21:00\n",
       "max            24 days 16:52:22\n",
       "Name: Request_Closing_Time, dtype: object"
      ]
     },
     "execution_count": 61,
     "metadata": {},
     "output_type": "execute_result"
    }
   ],
   "source": [
    "data[\"Request_Closing_Time\"].describe()\n"
   ]
  },
  {
   "cell_type": "code",
   "execution_count": 68,
   "metadata": {},
   "outputs": [
    {
     "name": "stdout",
     "output_type": "stream",
     "text": [
      "The average time to close a request complaint was 4hours 18 minutes and 51 seconds\n",
      "with the minimum time to close a request complaint at 1 minute\n",
      "with the maximum time to close a request for complaint at 24 days 17 hours 52 minutes and 22 seconds\n"
     ]
    }
   ],
   "source": [
    "print(\"The average time to close a request complaint was 4hours 18 minutes and 51 seconds\")\n",
    "print(\"with the minimum time to close a request complaint at 1 minute\")\n",
    "print(\"with the maximum time to close a request for complaint at 24 days 17 hours 52 minutes and 22 seconds\")\n",
    "data[\"Request_Closing_Time\"]=(data[\"Closed Date\"]-data[\"Created Date\"]).dt.total_seconds()"
   ]
  },
  {
   "cell_type": "code",
   "execution_count": 69,
   "metadata": {},
   "outputs": [
    {
     "data": {
      "text/html": [
       "<div>\n",
       "<style scoped>\n",
       "    .dataframe tbody tr th:only-of-type {\n",
       "        vertical-align: middle;\n",
       "    }\n",
       "\n",
       "    .dataframe tbody tr th {\n",
       "        vertical-align: top;\n",
       "    }\n",
       "\n",
       "    .dataframe thead th {\n",
       "        text-align: right;\n",
       "    }\n",
       "</style>\n",
       "<table border=\"1\" class=\"dataframe\">\n",
       "  <thead>\n",
       "    <tr style=\"text-align: right;\">\n",
       "      <th></th>\n",
       "      <th>Created Date</th>\n",
       "      <th>Closed Date</th>\n",
       "      <th>Complaint Type</th>\n",
       "      <th>City</th>\n",
       "      <th>Request_Closing_Time</th>\n",
       "    </tr>\n",
       "    <tr>\n",
       "      <th>Unique Key</th>\n",
       "      <th></th>\n",
       "      <th></th>\n",
       "      <th></th>\n",
       "      <th></th>\n",
       "      <th></th>\n",
       "    </tr>\n",
       "  </thead>\n",
       "  <tbody>\n",
       "    <tr>\n",
       "      <th>32310363</th>\n",
       "      <td>2015-12-31 23:59:45</td>\n",
       "      <td>2016-01-01 00:55:00</td>\n",
       "      <td>Noise - Street/Sidewalk</td>\n",
       "      <td>NEW YORK</td>\n",
       "      <td>3315.0</td>\n",
       "    </tr>\n",
       "    <tr>\n",
       "      <th>32309934</th>\n",
       "      <td>2015-12-31 23:59:44</td>\n",
       "      <td>2016-01-01 01:26:00</td>\n",
       "      <td>Blocked Driveway</td>\n",
       "      <td>ASTORIA</td>\n",
       "      <td>5176.0</td>\n",
       "    </tr>\n",
       "  </tbody>\n",
       "</table>\n",
       "</div>"
      ],
      "text/plain": [
       "                  Created Date         Closed Date           Complaint Type  \\\n",
       "Unique Key                                                                    \n",
       "32310363   2015-12-31 23:59:45 2016-01-01 00:55:00  Noise - Street/Sidewalk   \n",
       "32309934   2015-12-31 23:59:44 2016-01-01 01:26:00         Blocked Driveway   \n",
       "\n",
       "                City  Request_Closing_Time  \n",
       "Unique Key                                  \n",
       "32310363    NEW YORK                3315.0  \n",
       "32309934     ASTORIA                5176.0  "
      ]
     },
     "execution_count": 69,
     "metadata": {},
     "output_type": "execute_result"
    }
   ],
   "source": [
    "data[[\"Created Date\",\"Closed Date\",\"Complaint Type\",\"City\",\"Request_Closing_Time\"]].head(2)"
   ]
  },
  {
   "cell_type": "code",
   "execution_count": 70,
   "metadata": {},
   "outputs": [
    {
     "data": {
      "text/plain": [
       "<function matplotlib.pyplot.show(*args, **kw)>"
      ]
     },
     "execution_count": 70,
     "metadata": {},
     "output_type": "execute_result"
    },
    {
     "data": {
      "image/png": "[encoded data removed]",
      "text/plain": [
       "<Figure size 432x288 with 1 Axes>"
      ]
     },
     "metadata": {
      "needs_background": "light"
     },
     "output_type": "display_data"
    }
   ],
   "source": [
    "data[\"Created_Hour\"] = data[\"Created Date\"].dt.hour\n",
    "Created_Hour = [ Created_Hour for Created_Hour, data in data.groupby(\"Created_Hour\")]\n",
    "## at what times of the day are complaints created \n",
    "plt.plot(Created_Hour,data.groupby([\"Created_Hour\"]).count())\n",
    "plt.xticks(Created_Hour)\n",
    "plt.xlabel(\"Created_Hour\")\n",
    "plt.ylabel(\"Number of Complaints\")\n",
    "plt.grid()\n",
    "plt.show"
   ]
  },
  {
   "cell_type": "code",
   "execution_count": 71,
   "metadata": {},
   "outputs": [
    {
     "name": "stdout",
     "output_type": "stream",
     "text": [
      "From the graphs we can see that arount 00:00am, most complaints are filled or registered\n",
      "The least number of complaints created are between 04:00am and 05:00am\n"
     ]
    }
   ],
   "source": [
    "print(\"From the graphs we can see that arount 00:00am, most complaints are filled or registered\")\n",
    "print(\"The least number of complaints created are between 04:00am and 05:00am\")"
   ]
  },
  {
   "cell_type": "code",
   "execution_count": 72,
   "metadata": {},
   "outputs": [
    {
     "name": "stdout",
     "output_type": "stream",
     "text": [
      "Which Cities have a major complains?\n"
     ]
    }
   ],
   "source": [
    "print(\"Which Cities have a major complains?\")\n",
    "\n"
   ]
  },
  {
   "cell_type": "code",
   "execution_count": 73,
   "metadata": {},
   "outputs": [
    {
     "data": {
      "text/plain": [
       "<matplotlib.axes._subplots.AxesSubplot at 0x1a9851541f0>"
      ]
     },
     "execution_count": 73,
     "metadata": {},
     "output_type": "execute_result"
    },
    {
     "data": {
      "image/png": "[encoded data removed]",
      "text/plain": [
       "<Figure size 720x432 with 1 Axes>"
      ]
     },
     "metadata": {
      "needs_background": "light"
     },
     "output_type": "display_data"
    }
   ],
   "source": [
    "(data[\"City\"].value_counts()).head().plot(kind=\"bar\",figsize=(10,6),title=\"City vs No of Complaints\")"
   ]
  },
  {
   "cell_type": "code",
   "execution_count": 74,
   "metadata": {},
   "outputs": [
    {
     "name": "stdout",
     "output_type": "stream",
     "text": [
      "From the bar graph we can see that Brooklyn registered nearly 100 000 complaints and New York with about 65000 complaints\n"
     ]
    }
   ],
   "source": [
    "print(\"From the bar graph we can see that Brooklyn registered nearly 100 000 complaints and New York with about 65000 complaints\")"
   ]
  },
  {
   "cell_type": "code",
   "execution_count": 75,
   "metadata": {},
   "outputs": [
    {
     "data": {
      "text/plain": [
       "BROOKLYN               98307\n",
       "NEW YORK               65994\n",
       "BRONX                  40702\n",
       "STATEN ISLAND          12343\n",
       "JAMAICA                 7296\n",
       "ASTORIA                 6330\n",
       "FLUSHING                5971\n",
       "RIDGEWOOD               5163\n",
       "CORONA                  4295\n",
       "WOODSIDE                3544\n",
       "SOUTH RICHMOND HILL     2774\n",
       "OZONE PARK              2755\n",
       "EAST ELMHURST           2734\n",
       "ELMHURST                2673\n",
       "WOODHAVEN               2464\n",
       "MASPETH                 2462\n",
       "LONG ISLAND CITY        2437\n",
       "SOUTH OZONE PARK        2173\n",
       "RICHMOND HILL           1904\n",
       "FRESH MEADOWS           1899\n",
       "QUEENS VILLAGE          1814\n",
       "MIDDLE VILLAGE          1765\n",
       "JACKSON HEIGHTS         1689\n",
       "FOREST HILLS            1688\n",
       "REGO PARK               1486\n",
       "BAYSIDE                 1221\n",
       "COLLEGE POINT           1220\n",
       "FAR ROCKAWAY            1179\n",
       "WHITESTONE              1098\n",
       "HOLLIS                  1012\n",
       "HOWARD BEACH             931\n",
       "ROSEDALE                 922\n",
       "SPRINGFIELD GARDENS      883\n",
       "SAINT ALBANS             834\n",
       "KEW GARDENS              771\n",
       "ROCKAWAY PARK            745\n",
       "SUNNYSIDE                723\n",
       "Astoria                  717\n",
       "LITTLE NECK              559\n",
       "OAKLAND GARDENS          551\n",
       "CAMBRIA HEIGHTS          477\n",
       "BELLEROSE                375\n",
       "GLEN OAKS                306\n",
       "ARVERNE                  220\n",
       "FLORAL PARK              152\n",
       "Long Island City         134\n",
       "Woodside                 120\n",
       "NEW HYDE PARK             98\n",
       "CENTRAL PARK              97\n",
       "QUEENS                    32\n",
       "BREEZY POINT              30\n",
       "East Elmhurst             14\n",
       "Howard Beach               1\n",
       "Name: City, dtype: int64"
      ]
     },
     "execution_count": 75,
     "metadata": {},
     "output_type": "execute_result"
    }
   ],
   "source": [
    "data[\"City\"].value_counts()"
   ]
  },
  {
   "cell_type": "code",
   "execution_count": 76,
   "metadata": {},
   "outputs": [
    {
     "data": {
      "text/plain": [
       "BROOKLYN         98307\n",
       "QUEENS           80641\n",
       "MANHATTAN        66131\n",
       "BRONX            40702\n",
       "STATEN ISLAND    12343\n",
       "Unspecified       2574\n",
       "Name: Borough, dtype: int64"
      ]
     },
     "execution_count": 76,
     "metadata": {},
     "output_type": "execute_result"
    }
   ],
   "source": [
    "data[\"Borough\"].value_counts()"
   ]
  },
  {
   "cell_type": "code",
   "execution_count": 77,
   "metadata": {},
   "outputs": [
    {
     "data": {
      "image/png": "[encoded data removed]",
      "text/plain": [
       "<Figure size 720x432 with 1 Axes>"
      ]
     },
     "metadata": {},
     "output_type": "display_data"
    }
   ],
   "source": [
    "## we now want to see the percentage of value_counts of Boroughs per city\n",
    "colors =[\"Red\",\"Blue\",\"Yellow\",\"Purple\",\"Green\",\"Gold\",\"Orange\",\"Black\"]\n",
    "data[\"Borough\"].value_counts().plot(kind=\"pie\",autopct=\"%1.1f%%\",explode=(0.1,0,0,0,0,0), startangle=140, shadow=False,colors=colors, figsize=(10,6))\n",
    "plt.title(\"Number of complaints in Boroughs\")\n",
    "plt.axis(\"equal\")\n",
    "plt.show()\n",
    "\n",
    "## the proportion of cities in Boroughs"
   ]
  },
  {
   "cell_type": "code",
   "execution_count": 78,
   "metadata": {},
   "outputs": [
    {
     "data": {
      "text/plain": [
       "(80641, 54)"
      ]
     },
     "execution_count": 78,
     "metadata": {},
     "output_type": "execute_result"
    }
   ],
   "source": [
    "## Now we look and explore Complaints types experienced in QUEENS\n",
    "data_Queens =data[data[\"Borough\"] == \"QUEENS\"]\n",
    "data_Queens.shape"
   ]
  },
  {
   "cell_type": "code",
   "execution_count": 79,
   "metadata": {},
   "outputs": [
    {
     "data": {
      "text/plain": [
       "<matplotlib.axes._subplots.AxesSubplot at 0x1a9866ccca0>"
      ]
     },
     "execution_count": 79,
     "metadata": {},
     "output_type": "execute_result"
    },
    {
     "data": {
      "image/png": "[encoded data removed]",
      "text/plain": [
       "<Figure size 720x504 with 1 Axes>"
      ]
     },
     "metadata": {
      "needs_background": "light"
     },
     "output_type": "display_data"
    }
   ],
   "source": [
    "## common complaints in Queens\n",
    "(data_Queens[\"Complaint Type\"].value_counts()).head(15).plot(kind=\"bar\",figsize=(10,7), title = \"Common Complaints in Queens\")\n",
    "## we can see that blooked driveways and illegal parking are major causes of complaints"
   ]
  },
  {
   "cell_type": "code",
   "execution_count": 80,
   "metadata": {},
   "outputs": [
    {
     "data": {
      "text/plain": [
       "City     Complaint Type           \n",
       "ARVERNE  Animal Abuse                  7753.052632\n",
       "         Blocked Driveway              9093.485714\n",
       "         Derelict Vehicle             10685.592593\n",
       "         Disorderly Youth             12928.500000\n",
       "         Drinking                       859.000000\n",
       "         Graffiti                      5520.000000\n",
       "         Homeless Encampment           6533.250000\n",
       "         Illegal Parking               8338.913793\n",
       "         Noise - Commercial            8234.000000\n",
       "         Noise - House of Worship      5623.909091\n",
       "         Noise - Park                  4620.000000\n",
       "         Noise - Street/Sidewalk       7172.620690\n",
       "         Noise - Vehicle               6695.571429\n",
       "         Panhandling                   3720.000000\n",
       "         Urinating in Public           2491.000000\n",
       "         Vending                       1740.000000\n",
       "ASTORIA  Animal Abuse                 18000.608000\n",
       "         Bike/Roller/Skate Chronic     6261.533333\n",
       "         Blocked Driveway             17338.024064\n",
       "         Derelict Vehicle             34881.299145\n",
       "         Disorderly Youth             10449.333333\n",
       "         Drinking                     17000.714286\n",
       "         Graffiti                     50742.250000\n",
       "         Homeless Encampment          17703.312500\n",
       "         Illegal Fireworks             9984.500000\n",
       "         Illegal Parking              17400.207865\n",
       "         Noise - Commercial           11278.904872\n",
       "         Noise - House of Worship      7280.000000\n",
       "         Noise - Park                 10782.393443\n",
       "         Noise - Street/Sidewalk      12424.189119\n",
       "Name: Request_Closing_Time, dtype: float64"
      ]
     },
     "execution_count": 80,
     "metadata": {},
     "output_type": "execute_result"
    }
   ],
   "source": [
    "#data[\"Request_Closing_Time\"] = pd.to_numeric(data[\"Request_Closing_Time\"])\n",
    "avg_req_time_city = data.groupby([\"City\",\"Complaint Type\"]).Request_Closing_Time.mean()\n",
    "avg_req_time_city.head(30)"
   ]
  },
  {
   "cell_type": "code",
   "execution_count": 81,
   "metadata": {},
   "outputs": [
    {
     "data": {
      "text/plain": [
       "Complaint Type\n",
       "Posting Advertisement        7.112892e+03\n",
       "Illegal Fireworks            9.940101e+03\n",
       "Noise - Commercial           1.132976e+04\n",
       "Noise - House of Worship     1.149587e+04\n",
       "Noise - Park                 1.227864e+04\n",
       "Noise - Street/Sidewalk      1.240281e+04\n",
       "Traffic                      1.241525e+04\n",
       "Disorderly Youth             1.281090e+04\n",
       "Noise - Vehicle              1.292038e+04\n",
       "Urinating in Public          1.305599e+04\n",
       "Bike/Roller/Skate Chronic    1.355926e+04\n",
       "Drinking                     1.390260e+04\n",
       "Vending                      1.445011e+04\n",
       "Squeegee                     1.456425e+04\n",
       "Homeless Encampment          1.571605e+04\n",
       "Panhandling                  1.574196e+04\n",
       "Illegal Parking              1.620415e+04\n",
       "Blocked Driveway             1.706726e+04\n",
       "Animal Abuse                 1.876768e+04\n",
       "Agency Issues                1.893717e+04\n",
       "Graffiti                     2.574450e+04\n",
       "Derelict Vehicle             2.651090e+04\n",
       "Animal in a Park             1.212605e+06\n",
       "Ferry Complaint                       NaN\n",
       "Name: Request_Closing_Time, dtype: float64"
      ]
     },
     "execution_count": 81,
     "metadata": {},
     "output_type": "execute_result"
    }
   ],
   "source": [
    "avg_req_time = data.groupby(data[\"Complaint Type\"]).Request_Closing_Time.mean().sort_values(ascending=True)\n",
    "avg_req_time.head(30)"
   ]
  },
  {
   "cell_type": "code",
   "execution_count": 82,
   "metadata": {},
   "outputs": [
    {
     "name": "stdout",
     "output_type": "stream",
     "text": [
      "Null_Hypothesis: The average response time across complaint types are equal\n",
      "Alternative_Hypothesis : The average response time across complaint types are not equal\n"
     ]
    }
   ],
   "source": [
    "import scipy.stats as stats\n",
    "import statsmodels.api as sm\n",
    "from statsmodels.formula.api import ols\n",
    "\n",
    "print(\"Null_Hypothesis: The average response time across complaint types are equal\")\n",
    "print(\"Alternative_Hypothesis : The average response time across complaint types are not equal\")"
   ]
  },
  {
   "cell_type": "code",
   "execution_count": 41,
   "metadata": {},
   "outputs": [
    {
     "data": {
      "text/html": [
       "<div>\n",
       "<style scoped>\n",
       "    .dataframe tbody tr th:only-of-type {\n",
       "        vertical-align: middle;\n",
       "    }\n",
       "\n",
       "    .dataframe tbody tr th {\n",
       "        vertical-align: top;\n",
       "    }\n",
       "\n",
       "    .dataframe thead th {\n",
       "        text-align: right;\n",
       "    }\n",
       "</style>\n",
       "<table border=\"1\" class=\"dataframe\">\n",
       "  <thead>\n",
       "    <tr style=\"text-align: right;\">\n",
       "      <th></th>\n",
       "      <th>Request_Closing_Time</th>\n",
       "    </tr>\n",
       "    <tr>\n",
       "      <th>Unique Key</th>\n",
       "      <th></th>\n",
       "    </tr>\n",
       "  </thead>\n",
       "  <tbody>\n",
       "    <tr>\n",
       "      <th>32309934</th>\n",
       "      <td>5176.0</td>\n",
       "    </tr>\n",
       "    <tr>\n",
       "      <th>32309159</th>\n",
       "      <td>17491.0</td>\n",
       "    </tr>\n",
       "    <tr>\n",
       "      <th>32307009</th>\n",
       "      <td>6475.0</td>\n",
       "    </tr>\n",
       "    <tr>\n",
       "      <th>32308391</th>\n",
       "      <td>4982.0</td>\n",
       "    </tr>\n",
       "    <tr>\n",
       "      <th>32305071</th>\n",
       "      <td>28082.0</td>\n",
       "    </tr>\n",
       "  </tbody>\n",
       "</table>\n",
       "</div>"
      ],
      "text/plain": [
       "            Request_Closing_Time\n",
       "Unique Key                      \n",
       "32309934                  5176.0\n",
       "32309159                 17491.0\n",
       "32307009                  6475.0\n",
       "32308391                  4982.0\n",
       "32305071                 28082.0"
      ]
     },
     "execution_count": 41,
     "metadata": {},
     "output_type": "execute_result"
    }
   ],
   "source": [
    "B_Driveway = data[data[\"Complaint Type\"]==\"Blocked Driveway\"]\n",
    "B_Driveway = B_Driveway.loc[:,[\"Request_Closing_Time\"]]\n",
    "B_Driveway.head()"
   ]
  },
  {
   "cell_type": "code",
   "execution_count": 42,
   "metadata": {},
   "outputs": [
    {
     "data": {
      "text/html": [
       "<div>\n",
       "<style scoped>\n",
       "    .dataframe tbody tr th:only-of-type {\n",
       "        vertical-align: middle;\n",
       "    }\n",
       "\n",
       "    .dataframe tbody tr th {\n",
       "        vertical-align: top;\n",
       "    }\n",
       "\n",
       "    .dataframe thead th {\n",
       "        text-align: right;\n",
       "    }\n",
       "</style>\n",
       "<table border=\"1\" class=\"dataframe\">\n",
       "  <thead>\n",
       "    <tr style=\"text-align: right;\">\n",
       "      <th></th>\n",
       "      <th>Request_Closing_Time</th>\n",
       "    </tr>\n",
       "    <tr>\n",
       "      <th>Unique Key</th>\n",
       "      <th></th>\n",
       "    </tr>\n",
       "  </thead>\n",
       "  <tbody>\n",
       "    <tr>\n",
       "      <th>32310158</th>\n",
       "      <td>2797.0</td>\n",
       "    </tr>\n",
       "    <tr>\n",
       "      <th>32305792</th>\n",
       "      <td>1891.0</td>\n",
       "    </tr>\n",
       "    <tr>\n",
       "      <th>32305756</th>\n",
       "      <td>12777.0</td>\n",
       "    </tr>\n",
       "    <tr>\n",
       "      <th>32308622</th>\n",
       "      <td>767.0</td>\n",
       "    </tr>\n",
       "    <tr>\n",
       "      <th>32310104</th>\n",
       "      <td>11774.0</td>\n",
       "    </tr>\n",
       "  </tbody>\n",
       "</table>\n",
       "</div>"
      ],
      "text/plain": [
       "            Request_Closing_Time\n",
       "Unique Key                      \n",
       "32310158                  2797.0\n",
       "32305792                  1891.0\n",
       "32305756                 12777.0\n",
       "32308622                   767.0\n",
       "32310104                 11774.0"
      ]
     },
     "execution_count": 42,
     "metadata": {},
     "output_type": "execute_result"
    }
   ],
   "source": [
    "data_drinking = data[data[\"Complaint Type\"]==\"Drinking\"]\n",
    "data_drnking = data_drinking.loc[:,[\"Request_Closing_Time\"]]\n",
    "data_drnking.head()"
   ]
  },
  {
   "cell_type": "code",
   "execution_count": 43,
   "metadata": {},
   "outputs": [
    {
     "data": {
      "text/plain": [
       "array([nan])"
      ]
     },
     "execution_count": 43,
     "metadata": {},
     "output_type": "execute_result"
    }
   ],
   "source": [
    "## We can only accept the Null Hypothesis if the p value is almost 1\n",
    "fvalue, pvalue = stats.f_oneway(B_Driveway,data_drnking)\n",
    "pvalue\n",
    "print(\"with the pvalue of data as not a\")"
   ]
  },
  {
   "cell_type": "code",
   "execution_count": 44,
   "metadata": {},
   "outputs": [
    {
     "data": {
      "text/html": [
       "<div>\n",
       "<style scoped>\n",
       "    .dataframe tbody tr th:only-of-type {\n",
       "        vertical-align: middle;\n",
       "    }\n",
       "\n",
       "    .dataframe tbody tr th {\n",
       "        vertical-align: top;\n",
       "    }\n",
       "\n",
       "    .dataframe thead th {\n",
       "        text-align: right;\n",
       "    }\n",
       "</style>\n",
       "<table border=\"1\" class=\"dataframe\">\n",
       "  <thead>\n",
       "    <tr style=\"text-align: right;\">\n",
       "      <th></th>\n",
       "      <th>df</th>\n",
       "      <th>sum_sq</th>\n",
       "      <th>mean_sq</th>\n",
       "      <th>F</th>\n",
       "      <th>PR(&gt;F)</th>\n",
       "    </tr>\n",
       "  </thead>\n",
       "  <tbody>\n",
       "    <tr>\n",
       "      <th>Complaint_Type</th>\n",
       "      <td>23.0</td>\n",
       "      <td>5.238391e+12</td>\n",
       "      <td>2.277561e+11</td>\n",
       "      <td>491.841605</td>\n",
       "      <td>0.0</td>\n",
       "    </tr>\n",
       "    <tr>\n",
       "      <th>Residual</th>\n",
       "      <td>298511.0</td>\n",
       "      <td>1.382309e+14</td>\n",
       "      <td>4.630680e+08</td>\n",
       "      <td>NaN</td>\n",
       "      <td>NaN</td>\n",
       "    </tr>\n",
       "  </tbody>\n",
       "</table>\n",
       "</div>"
      ],
      "text/plain": [
       "                      df        sum_sq       mean_sq           F  PR(>F)\n",
       "Complaint_Type      23.0  5.238391e+12  2.277561e+11  491.841605     0.0\n",
       "Residual        298511.0  1.382309e+14  4.630680e+08         NaN     NaN"
      ]
     },
     "execution_count": 44,
     "metadata": {},
     "output_type": "execute_result"
    }
   ],
   "source": [
    "data['Complaint_Type']=data['Complaint Type']\n",
    "data_type_req = data.loc[:, ['Complaint_Type','Request_Closing_Time']] \n",
    "model = ols('Request_Closing_Time ~ Complaint_Type', data=data_type_req).fit()\n",
    "anova_table = sm.stats.anova_lm(model, typ=1)\n",
    "anova_table\n"
   ]
  },
  {
   "cell_type": "code",
   "execution_count": 45,
   "metadata": {},
   "outputs": [
    {
     "name": "stdout",
     "output_type": "stream",
     "text": [
      "Null Hypothesis: Type of complaint or service requested and location are Related\n",
      "Alternative Hypothesis : Type of Complaint or service requested and location are NOT Related\n"
     ]
    }
   ],
   "source": [
    "Data_City_Type = pd.crosstab(data.City , data.Complaint_Type)\n",
    "from scipy.stats import chi2_contingency\n",
    "from scipy.stats import chi2\n",
    "\n",
    "print(\"Null Hypothesis: Type of complaint or service requested and location are Related\")\n",
    "print(\"Alternative Hypothesis : Type of Complaint or service requested and location are NOT Related\")"
   ]
  },
  {
   "cell_type": "code",
   "execution_count": 48,
   "metadata": {
    "scrolled": true
   },
   "outputs": [
    {
     "name": "stdout",
     "output_type": "stream",
     "text": [
      "dof=1092\n",
      "[[5.73241100e+00 7.38046993e-04 3.11455831e-01 ... 3.31752124e+00\n",
      "  4.36923820e-01 2.80088834e+00]\n",
      " [1.64937098e+02 2.12356249e-02 8.96143369e+00 ... 9.54541337e+01\n",
      "  1.25714899e+01 8.05891963e+01]\n",
      " [1.86824486e+01 2.40536225e-03 1.01506287e+00 ... 1.08121033e+01\n",
      "  1.42397445e+00 9.12834973e+00]\n",
      " ...\n",
      " [6.42030032e+01 8.26612633e-03 3.48830531e+00 ... 3.71562378e+01\n",
      "  4.89354679e+00 3.13699494e+01]\n",
      " [9.23439299e+01 1.18892661e-02 5.01727030e+00 ... 5.34422512e+01\n",
      "  7.03844554e+00 4.51197649e+01]\n",
      " [3.12676964e+00 4.02571087e-04 1.69884999e-01 ... 1.80955704e+00\n",
      "  2.38322084e-01 1.52775728e+00]]\n",
      "probability=0.990, critical=1203.650, stat=119769.347\n",
      "Reject the Null Hypothesis\n",
      "Type of Complaint or service requested and location are NOT Related\n",
      "significance=0.010, p=0.000\n",
      "Reject the Null Hypothesis\n",
      "Type of Complaint or service requested and location are NOT Related\n"
     ]
    }
   ],
   "source": [
    "## Using 95% Confidence Interval\n",
    "table = Data_City_Type\n",
    "stat, p, dof, expected = chi2_contingency(table)\n",
    "print(\"dof=%d\" % dof)\n",
    "print(expected)\n",
    "probability = 0.99\n",
    "critical = chi2.ppf(probability, dof)\n",
    "print(\"probability=%.3f, critical=%.3f, stat=%.3f\" % (probability, critical, stat))\n",
    "if abs(stat) >= critical:\n",
    "    print(\"Reject the Null Hypothesis\")\n",
    "    print(\"Type of Complaint or service requested and location are NOT Related\")\n",
    "else:\n",
    "    print(\"Fail to reject The Null Hypothesis\")\n",
    "    print(\"Type of complaint or service requested and location are Related\")\n",
    "alpha = 1.0 - probability\n",
    "print('significance=%.3f, p=%.3f' % (alpha, p))\n",
    "if p <= alpha:\n",
    "    print(\"Reject the Null Hypothesis\")\n",
    "    print(\"Type of Complaint or service requested and location are NOT Related\")\n",
    "else:\n",
    "    print(\"Fail to reject The Null Hypothesis\")\n",
    "    print(\"Type of complaint or service requested and location are Related\")"
   ]
  },
  {
   "cell_type": "code",
   "execution_count": 63,
   "metadata": {},
   "outputs": [
    {
     "name": "stdout",
     "output_type": "stream",
     "text": [
      "Type of Complaint or service request and location are not related\n"
     ]
    }
   ],
   "source": [
    "print(\"Type of Complaint or service request and location are not related\")"
   ]
  },
  {
   "cell_type": "code",
   "execution_count": 83,
   "metadata": {},
   "outputs": [
    {
     "name": "stdout",
     "output_type": "stream",
     "text": [
      "END\n"
     ]
    }
   ],
   "source": [
    "print(\"END\")"
   ]
  },
  {
   "cell_type": "code",
   "execution_count": null,
   "metadata": {},
   "outputs": [],
   "source": []
  }
 ],
 "metadata": {
  "kernelspec": {
   "display_name": "Python 3",
   "language": "python",
   "name": "python3"
  },
  "language_info": {
   "codemirror_mode": {
    "name": "ipython",
    "version": 3
   },
   "file_extension": ".py",
   "mimetype": "text/x-python",
   "name": "python",
   "nbconvert_exporter": "python",
   "pygments_lexer": "ipython3",
   "version": "3.8.3"
  }
 },
 "nbformat": 4,
 "nbformat_minor": 4
}
